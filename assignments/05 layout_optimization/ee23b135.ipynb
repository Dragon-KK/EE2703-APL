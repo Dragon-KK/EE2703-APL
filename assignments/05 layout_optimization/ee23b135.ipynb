{
 "cells": [
  {
   "cell_type": "code",
   "execution_count": 1,
   "metadata": {},
   "outputs": [],
   "source": [
    "import os\n",
    "import warnings\n",
    "import matplotlib.pyplot as plt\n",
    "\n",
    "try:\n",
    "    from ee23b135_simulated_annealing import optimize\n",
    "    from ee23b135_kbda import KeyboardAnalyzer\n",
    "    from ee23b135_layout import Layout\n",
    "\n",
    "except ImportError as import_error:\n",
    "    # Just in case the person using this didn't read the readme\n",
    "    warnings.warn(\n",
    "        \"Did you forget to place `ee23b135_kbda.py`, `ee23b135_simulated_annealing` and `ee23b135_layout` in the current directory?\",\n",
    "        stacklevel=2,\n",
    "    )\n",
    "    raise import_error"
   ]
  },
  {
   "cell_type": "code",
   "execution_count": 2,
   "metadata": {},
   "outputs": [
    {
     "data": {
      "text/plain": [
       "'The name with which heatmaps will be saved with (If `SAVE_IMAGE` is set to True)'"
      ]
     },
     "execution_count": 2,
     "metadata": {},
     "output_type": "execute_result"
    }
   ],
   "source": [
    "SHOW_IMAGE = True\n",
    "\"\"\"Set to true to show the heatmaps on generation (using `PIL.Image.Image.show`)\"\"\"\n",
    "\n",
    "SAVE_IMAGE = False\n",
    "\"\"\"Set to true to save the heatmaps generated\"\"\"\n",
    "\n",
    "IMAGE_OUTPUT_DIRECTORY = \"ee23b135_heatmaps\"\n",
    "\"\"\"The directory where heatmaps will be saved to (If `SAVE_IMAGE` is set to True)\"\"\"\n",
    "\n",
    "IMAGE_OUTPUT_PREFIX = \"ee23b135_heatmap\"\n",
    "\"\"\"The name with which heatmaps will be saved with (If `SAVE_IMAGE` is set to True)\"\"\""
   ]
  },
  {
   "cell_type": "code",
   "execution_count": 3,
   "metadata": {},
   "outputs": [],
   "source": [
    "def generate_outfile_name():\n",
    "    \"\"\"\n",
    "    Generates file names of the type\n",
    "    `{IMAGE_OUTPUT_DIRECTORY}/{IMAGE_OUTPUT_PREFIX}{NUMBER}.png`\n",
    "    Where NUMEBER is the number of files present in `IMAGE_OUTPUT_DIRECTORY`\n",
    "\n",
    "    (This is done in an effort to create unique file names that follow some order)\n",
    "\n",
    "    Returns\n",
    "    -------\n",
    "    file_path: str\n",
    "        A (hopefully unique) file path to save the image as :)\n",
    "    \"\"\"\n",
    "    # Make the directory if it doesn't exist\n",
    "    os.makedirs(IMAGE_OUTPUT_DIRECTORY, exist_ok=True)\n",
    "\n",
    "    # Find the number of items in the directory\n",
    "    number = len(os.listdir(IMAGE_OUTPUT_DIRECTORY))\n",
    "\n",
    "    return f\"{IMAGE_OUTPUT_DIRECTORY}/{IMAGE_OUTPUT_PREFIX}{number}.png\""
   ]
  },
  {
   "cell_type": "code",
   "execution_count": 4,
   "metadata": {},
   "outputs": [
    {
     "ename": "FileNotFoundError",
     "evalue": "The file `` cannot be read!",
     "output_type": "error",
     "traceback": [
      "\u001b[1;31m---------------------------------------------------------------------------\u001b[0m",
      "\u001b[1;31mFileNotFoundError\u001b[0m                         Traceback (most recent call last)",
      "File \u001b[1;32mc:\\Users\\kaush\\Google Drive\\College\\Semester 3\\APL\\assignments\\05\\ee23b135_layout.py:250\u001b[0m, in \u001b[0;36mLayout.from_file\u001b[1;34m(cls, file_path)\u001b[0m\n\u001b[0;32m    249\u001b[0m \u001b[38;5;28;01mtry\u001b[39;00m:  \u001b[38;5;66;03m# Try opening the file and raise an error if it doesn't exist\u001b[39;00m\n\u001b[1;32m--> 250\u001b[0m     \u001b[38;5;28;01mwith\u001b[39;00m \u001b[38;5;28;43mopen\u001b[39;49m\u001b[43m(\u001b[49m\u001b[43mfile_path\u001b[49m\u001b[43m,\u001b[49m\u001b[43m \u001b[49m\u001b[38;5;124;43m\"\u001b[39;49m\u001b[38;5;124;43mr\u001b[39;49m\u001b[38;5;124;43m\"\u001b[39;49m\u001b[43m)\u001b[49m \u001b[38;5;28;01mas\u001b[39;00m f:\n\u001b[0;32m    251\u001b[0m         file_data \u001b[38;5;241m=\u001b[39m f\u001b[38;5;241m.\u001b[39mread()\n",
      "\u001b[1;31mFileNotFoundError\u001b[0m: [Errno 2] No such file or directory: ''",
      "\nDuring handling of the above exception, another exception occurred:\n",
      "\u001b[1;31mFileNotFoundError\u001b[0m                         Traceback (most recent call last)",
      "Cell \u001b[1;32mIn[4], line 4\u001b[0m\n\u001b[0;32m      1\u001b[0m layout_file_path \u001b[38;5;241m=\u001b[39m \u001b[38;5;28minput\u001b[39m(\u001b[38;5;124m\"\u001b[39m\u001b[38;5;124mEnter a json file with the keyboard layout: \u001b[39m\u001b[38;5;124m\"\u001b[39m)\n\u001b[0;32m      3\u001b[0m \u001b[38;5;66;03m# Load the initial layout\u001b[39;00m\n\u001b[1;32m----> 4\u001b[0m layout \u001b[38;5;241m=\u001b[39m \u001b[43mLayout\u001b[49m\u001b[38;5;241;43m.\u001b[39;49m\u001b[43mfrom_file\u001b[49m\u001b[43m(\u001b[49m\u001b[43mlayout_file_path\u001b[49m\u001b[43m)\u001b[49m\n\u001b[0;32m      5\u001b[0m \u001b[38;5;124;03m\"\"\"\u001b[39;00m\n\u001b[0;32m      6\u001b[0m \u001b[38;5;124;03mAlternatively you could load it directly from the data and characters dictionaries\u001b[39;00m\n\u001b[0;32m      7\u001b[0m \u001b[38;5;124;03m[ This is the same as my assignment 4 submission :) ]\u001b[39;00m\n\u001b[0;32m      8\u001b[0m \u001b[38;5;124;03m`layout = Layout.from_dict(keys=keys, characters=characters)`\u001b[39;00m\n\u001b[0;32m      9\u001b[0m \u001b[38;5;124;03m\"\"\"\u001b[39;00m\n\u001b[0;32m     11\u001b[0m text_file_path \u001b[38;5;241m=\u001b[39m \u001b[38;5;28minput\u001b[39m(\u001b[38;5;124m\"\u001b[39m\u001b[38;5;124mEnter a file with the text data: \u001b[39m\u001b[38;5;124m\"\u001b[39m)\n",
      "File \u001b[1;32mc:\\Users\\kaush\\Google Drive\\College\\Semester 3\\APL\\assignments\\05\\ee23b135_layout.py:254\u001b[0m, in \u001b[0;36mLayout.from_file\u001b[1;34m(cls, file_path)\u001b[0m\n\u001b[0;32m    251\u001b[0m         file_data \u001b[38;5;241m=\u001b[39m f\u001b[38;5;241m.\u001b[39mread()\n\u001b[0;32m    253\u001b[0m \u001b[38;5;28;01mexcept\u001b[39;00m \u001b[38;5;167;01mException\u001b[39;00m:  \u001b[38;5;66;03m# i.e. The file couldn't be opened for reading\u001b[39;00m\n\u001b[1;32m--> 254\u001b[0m     \u001b[38;5;28;01mraise\u001b[39;00m \u001b[38;5;167;01mFileNotFoundError\u001b[39;00m(\u001b[38;5;124mf\u001b[39m\u001b[38;5;124m\"\u001b[39m\u001b[38;5;124mThe file `\u001b[39m\u001b[38;5;132;01m{\u001b[39;00mfile_path\u001b[38;5;132;01m}\u001b[39;00m\u001b[38;5;124m` cannot be read!\u001b[39m\u001b[38;5;124m\"\u001b[39m)\n\u001b[0;32m    256\u001b[0m \u001b[38;5;28;01mtry\u001b[39;00m:  \u001b[38;5;66;03m# Try parsing the file and raise an error if it couldn't\u001b[39;00m\n\u001b[0;32m    257\u001b[0m     raw_layout \u001b[38;5;241m=\u001b[39m json\u001b[38;5;241m.\u001b[39mloads(file_data)\n",
      "\u001b[1;31mFileNotFoundError\u001b[0m: The file `` cannot be read!"
     ]
    }
   ],
   "source": [
    "layout_file_path = input(\"Enter a json file with the keyboard layout: \")\n",
    "\n",
    "# Load the initial layout\n",
    "layout = Layout.from_file(layout_file_path)\n",
    "\"\"\"\n",
    "Alternatively you could load it directly from the data and characters dictionaries\n",
    "[ This is the same as my assignment 4 submission :) ]\n",
    "`layout = Layout.from_dict(keys=keys, characters=characters)`\n",
    "\"\"\"\n",
    "\n",
    "text_file_path = input(\"Enter a file with the text data: \")\n",
    "\n",
    "try:  # Try opening the file and raise an error if it doesn't exist\n",
    "    with open(text_file_path, \"r\") as f:\n",
    "        text = f.read()\n",
    "\n",
    "except Exception:  # i.e. The file couldn't be opened for reading\n",
    "    raise FileNotFoundError(f\"The file `{text_file_path}` cannot be read!\")\n",
    "\n",
    "print(\"Optimizing layout :)\")\n",
    "\n",
    "# Find the optimized layout for the text\n",
    "# The optimize function takes more parameters, feel free to play around with them\n",
    "optimized_layout, distances = optimize(layout, text)\n",
    "\n",
    "# Create analyzer to generate plot if required\n",
    "kbda = KeyboardAnalyzer(optimized_layout)\n",
    "kbda.analyze(text, ignore_space=False, ignore_shift=False)\n",
    "\n",
    "heatmap = None\n",
    "if SHOW_IMAGE or SAVE_IMAGE:\n",
    "    heatmap = kbda.generate_heatmap()\n",
    "\n",
    "print(\"Distance travelled in original layout:\", distances[0])\n",
    "print(\"Distance travelled in optimized layout:\", kbda.get_distance_travelled())\n",
    "\n",
    "if SAVE_IMAGE:\n",
    "    assert heatmap is not None\n",
    "    outfile = generate_outfile_name()\n",
    "    print(f\"Saving heatmap of optimized to `{outfile}`\")\n",
    "    heatmap.save(outfile)\n",
    "\n",
    "if SHOW_IMAGE:\n",
    "    assert heatmap is not None\n",
    "    print(\"Showing heatmap of optimized layout...\")\n",
    "    display(heatmap)\n",
    "\n",
    "# Plot the best distances reached at each step\n",
    "plt.plot(list(min(distances[: i + 1]) for i in range(len(distances))))  # type: ignore\n",
    "# Plot the intermediate steps\n",
    "plt.plot(distances)  # type: ignore\n",
    "\n",
    "plt.title(\"Simulated annealing top find optimal keyboard\")  # type: ignore\n",
    "plt.xlabel(\"Iteration\")  # type: ignore\n",
    "plt.ylabel(\"Distance\")  # type: ignore\n",
    "\n",
    "plt.legend([\"Best distance\", \"Current distance\"])  # type: ignore\n",
    "plt.show()  # type: ignore"
   ]
  }
 ],
 "metadata": {
  "kernelspec": {
   "display_name": "Python 3",
   "language": "python",
   "name": "python3"
  },
  "language_info": {
   "codemirror_mode": {
    "name": "ipython",
    "version": 3
   },
   "file_extension": ".py",
   "mimetype": "text/x-python",
   "name": "python",
   "nbconvert_exporter": "python",
   "pygments_lexer": "ipython3",
   "version": "3.12.4"
  }
 },
 "nbformat": 4,
 "nbformat_minor": 2
}
